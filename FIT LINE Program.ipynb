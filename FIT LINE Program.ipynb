{
 "cells": [
  {
   "cell_type": "markdown",
   "id": "f0d762ac",
   "metadata": {},
   "source": [
    "# Fit Line"
   ]
  },
  {
   "cell_type": "markdown",
   "id": "fb643772",
   "metadata": {},
   "source": [
    "***"
   ]
  },
  {
   "cell_type": "markdown",
   "id": "0241142d",
   "metadata": {},
   "source": [
    "### Steps to Calculate Fit Line:\n",
    "\n",
    "<div class=\"alert alert-block alert-success\">\n",
    "We have the x, y coordinates, hence we have 2 variables (x,y) and we need to find the remaining 2: <br>                               1) m (slope) <br>\n",
    "      2) c (y-intercept) <br>\n",
    "</div>\n",
    "\n",
    "1) Find Summation of x & y coordinates <br>\n",
    "2) Find X_Bar (Avg. of X) & Y_Bar (Avg. of Y) <br>\n",
    "3) Find [x-(X_Bar)] & [y-(Y_Bar)] <br>\n",
    "4) Find Product of [x-(X-Bar)] & [y-(Y-Bar)] <br>\n",
    "       And find Summation of Product <br>\n",
    "5) Find Square of [x-(X-Bar)] <br>\n",
    "       And Find Summation of Square <br>\n",
    "6) Now find out m (Slope) <br>\n",
    "7) Hence, find out c (y-intercept) <br>\n",
    "8) Now we have m (slope) & c (y-intercept) <br>\n",
    "9) Using the slope, y-intercept and x-coordinates we have to find out y !  <br>\n"
   ]
  },
  {
   "cell_type": "markdown",
   "id": "7d489356",
   "metadata": {},
   "source": [
    "***"
   ]
  },
  {
   "cell_type": "markdown",
   "id": "a480985f",
   "metadata": {},
   "source": [
    "### Whole Program"
   ]
  },
  {
   "cell_type": "code",
   "execution_count": 49,
   "id": "76267b33",
   "metadata": {
    "scrolled": false
   },
   "outputs": [
    {
     "name": "stdout",
     "output_type": "stream",
     "text": [
      "x :  [140, 100, 20, 55, 120, 10, 78, 99, 61, 155, 110.6, 144, 65, 134, 91]\n",
      "y :  [96.11, 80.63, 35.26, 48.51, 91.84, 21.66, 66.48, 83.21, 8.9, 98.56, 98.56, 99.15, 35.41, 95.41, 75.12]\n"
     ]
    },
    {
     "data": {
      "image/png": "[encoded data removed]",
      "text/plain": [
       "<Figure size 432x288 with 1 Axes>"
      ]
     },
     "metadata": {
      "needs_background": "light"
     },
     "output_type": "display_data"
    },
    {
     "name": "stdout",
     "output_type": "stream",
     "text": [
      "\n",
      "Summation X :  1382.6\n",
      "X-Bar = Summation of X / Total number of values of X ( 15 )\n",
      "X-Bar :  92\n",
      "\n",
      "Summation Y :  1034.81\n",
      "Y-Bar = Summation of Y / Total number of values of Y ( 15 )\n",
      "Y-Bar :  69\n",
      "\n",
      "x-(X_Bar) :  [48, 8, -72, -37, 28, -82, -14, 7, -31, 63, 18.599999999999994, 52, -27, 42, -1]\n",
      "\n",
      "y-(Y_Bar) :  [27.11, 11.629999999999995, -33.74, -20.490000000000002, 22.840000000000003, -47.34, -2.519999999999996, 14.209999999999994, -60.1, 29.560000000000002, 29.560000000000002, 30.150000000000006, -33.59, 26.409999999999997, 6.1200000000000045]\n",
      "\n",
      "Product = (x - (x_Bar)) * (y - (Y_Bar))\n",
      "Product :  [1301.28, 93.03999999999996, 2429.28, 758.1300000000001, 639.5200000000001, 3881.88, 35.279999999999944, 99.46999999999996, 1863.1000000000001, 1862.2800000000002, 549.8159999999999, 1567.8000000000002, 906.9300000000001, 1109.2199999999998, -6.1200000000000045]\n",
      "\n",
      "Square = (x - (X_Bar))^2\n",
      "Square :  [2304, 64, 5184, 1369, 784, 6724, 196, 49, 961, 3969, 345.9599999999998, 2704, 729, 1764, 1]\n",
      "\n",
      "Product Summation :  17090.906000000006\n",
      "Square Summation  :  27147.96\n",
      "\n",
      "Slope = Product Summation / Square Summation\n",
      "Slope :  0.629546603133348\n",
      "\n",
      "y = Slope(m)*x + Y-Intercept(c)\n",
      "Therefore, Y-Intercept(c) = y - Slope(m)*x\n",
      "Y-Intercept :  11.081712511731986\n",
      "\n",
      "Therefore, Equation is : \n",
      "y = 0.629546603133348 * x + 11.081712511731986\n",
      " \n",
      " x  |      y\n",
      "140 | 99.2182369504007\n",
      "100 | 74.03637282506679\n",
      "20 | 23.672644574398944\n",
      "55 | 45.70677568406612\n",
      "120 | 86.62730488773374\n",
      "10 | 17.377178543065465\n",
      "78 | 60.18634755613313\n",
      "99 | 73.40682622193344\n",
      "61 | 49.48405530286621\n",
      "155 | 108.66143599740093\n",
      "110.6 | 80.70956681828028\n",
      "144 | 101.73642336293409\n",
      "65 | 52.002241715399606\n",
      "134 | 95.44095733160063\n",
      "91 | 68.37045339686665\n",
      " \n",
      "  MSE   |   y   |  y_bar   |\n",
      "9.6611  |  96.11  |  99.2182  |\n",
      "43.4759  |  80.63  |  74.0364  |\n",
      "134.2668  |  35.26  |  23.6726  |\n",
      "7.8581  |  48.51  |  45.7068  |\n",
      "27.1722  |  91.84  |  86.6273  |\n",
      "18.3426  |  21.66  |  17.3772  |\n",
      "39.6101  |  66.48  |  60.1863  |\n",
      "96.1022  |  83.21  |  73.4068  |\n",
      "1647.0655  |  8.9  |  49.4841  |\n",
      "102.039  |  98.56  |  108.6614  |\n",
      "318.638  |  98.56  |  80.7096  |\n",
      "6.6896  |  99.15  |  101.7364  |\n",
      "275.3025  |  35.41  |  52.0022  |\n",
      "0.001  |  95.41  |  95.441  |\n",
      "45.5564  |  75.12  |  68.3705  |\n",
      "\n",
      "x_min :  10\n",
      "y_min :  17.377178543065465\n",
      "\n",
      "x_max :  155\n",
      "y_max :  108.66143599740093\n"
     ]
    },
    {
     "data": {
      "image/png": "[encoded data removed]",
      "text/plain": [
       "<Figure size 432x288 with 1 Axes>"
      ]
     },
     "metadata": {
      "needs_background": "light"
     },
     "output_type": "display_data"
    }
   ],
   "source": [
    "import matplotlib.pyplot as plt\n",
    "\n",
    "\n",
    "x = [140, 100, 20, 55, 120, 10, 78, 99, 61, 155, 110.6, 144, 65, 134, 91]\n",
    "y = [96.11, 80.63, 35.26, 48.51, 91.84, 21.66, 66.48, 83.21, 8.9, 98.56, 98.56, 99.15, 35.41, 95.41, 75.12]\n",
    "\n",
    "\n",
    "x_n = len(x)\n",
    "y_n = len(y)\n",
    "\n",
    "print(\"x : \", x)\n",
    "print(\"y : \", y)\n",
    "\n",
    "plt.title(\"Scatter Plot\")\n",
    "plt.xlabel(\"Study Hours (Weekly) ---------------->\")\n",
    "plt.ylabel(\"Marks (in %) ---------------->\")\n",
    "plt.scatter(x,y)\n",
    "plt.show()\n",
    "\n",
    "x_add = 0\n",
    "for i in range(len(x)):\n",
    "    x_add = x_add + x[i]\n",
    "\n",
    "print(\"\\nSummation X : \", x_add)\n",
    "#x_round_off = (x_add/x_n)\n",
    "x_round_off = round(x_add/x_n)\n",
    "print(\"X-Bar = Summation of X / Total number of values of X (\",x_n,\")\")\n",
    "print(\"X-Bar : \", x_round_off)\n",
    "\n",
    "\n",
    "y_add = 0\n",
    "for i in range(len(x)):\n",
    "    y_add = y_add + y[i]\n",
    "\n",
    "print(\"\\nSummation Y : \", (y_add))\n",
    "#y_round_off = (y_add/y_n)\n",
    "y_round_off = round(y_add/y_n)\n",
    "print(\"Y-Bar = Summation of Y / Total number of values of Y (\",y_n,\")\")\n",
    "print(\"Y-Bar : \", y_round_off)\n",
    "\n",
    "xi_X = []\n",
    "for k in range(x_n):\n",
    "    x_final = x[k] - x_round_off\n",
    "    xi_X.append(x_final)\n",
    "\n",
    "print(\"\\nx-(X_Bar) : \", xi_X)\n",
    "\n",
    "yi_Y = []\n",
    "for k in range(y_n):\n",
    "    y_final = y[k] - y_round_off\n",
    "    yi_Y.append(y_final)\n",
    "\n",
    "print(\"\\ny-(Y_Bar) : \", yi_Y)\n",
    "\n",
    "product_final =[]\n",
    "#print(\"\\nProduct = (xi - x) * (yi - Y)\")\n",
    "for j,l in zip(xi_X, yi_Y):\n",
    "    product = j*l\n",
    "    product_final.append(product)\n",
    "    #print(round(product,4))\n",
    "\n",
    "print(\"\\nProduct = (x - (x_Bar)) * (y - (Y_Bar))\")\n",
    "print(\"Product : \", product_final)\n",
    "\n",
    "square = []\n",
    "for n in range(len(xi_X)):\n",
    "    sqr = xi_X[n] * xi_X[n]\n",
    "    square.append(sqr)\n",
    "print(\"\\nSquare = (x - (X_Bar))^2\")\n",
    "print(\"Square : \", square)\n",
    "\n",
    "\n",
    "product_ultra_final = 0\n",
    "square_ulta_final = 0\n",
    "for a,b in zip(product_final, square):\n",
    "    #print(a,b)\n",
    "    product_ultra_final = product_ultra_final + a\n",
    "    square_ulta_final = square_ulta_final + b\n",
    "\n",
    "print(\"\\nProduct Summation : \", product_ultra_final)\n",
    "print(\"Square Summation  : \", square_ulta_final)\n",
    "\n",
    "slope = product_ultra_final/square_ulta_final\n",
    "print(\"\\nSlope = Product Summation / Square Summation\")\n",
    "print(\"Slope : \", slope)\n",
    "\n",
    "y_intercept = y_round_off - slope * x_round_off\n",
    "print(\"\\ny = Slope(m)*x + Y-Intercept(c)\")\n",
    "print(\"Therefore, Y-Intercept(c) = y - Slope(m)*x\")\n",
    "print(\"Y-Intercept : \", y_intercept)\n",
    "\n",
    "print(\"\\nTherefore, Equation is : \\ny =\", slope, \"* x\", \"+\", y_intercept)\n",
    "\n",
    "\n",
    "y_final_array = []\n",
    "print(\" \")\n",
    "print(\" x  |      y\")\n",
    "for d in x:\n",
    "    mx = slope * d\n",
    "    y_final = mx + y_intercept\n",
    "    print(d,\"|\", y_final)\n",
    "\n",
    "    y_final_array.append(y_final)\n",
    "\n",
    "    rounded_y_final = round(y_final)\n",
    "\n",
    "print(\" \")\n",
    "print(\"  MSE   |   y   |  y_bar   |\")\n",
    "for e,f in zip(y, y_final_array):\n",
    "    mse = (e-f) * (e-f)\n",
    "    print(round(mse,4), \" | \", e, \" | \", round(f,4), \" |\")\n",
    "\n",
    "\n",
    "\n",
    "print(\"\\nx_min : \", min(x))\n",
    "print(\"y_min : \", min(y_final_array))\n",
    "starting_x_coordinate = min(x), max(x)\n",
    "\n",
    "print(\"\\nx_max : \", max(x))\n",
    "print(\"y_max : \", max(y_final_array))\n",
    "ending_y_coordinate = min(y_final_array), max(y_final_array)\n",
    "\n",
    "\n",
    "plt.title(\"Linear Regression\")\n",
    "plt.xlabel(\"Study Hours (Weekly) ---------------->\")\n",
    "plt.ylabel(\"Marks (in %) ---------------->\")\n",
    "plt.scatter(x, y)\n",
    "plt.plot(starting_x_coordinate, ending_y_coordinate, '-r', label='y=2x+1')\n",
    "plt.show()"
   ]
  },
  {
   "cell_type": "markdown",
   "id": "02b89c0a",
   "metadata": {},
   "source": [
    "***"
   ]
  },
  {
   "cell_type": "markdown",
   "id": "05169747",
   "metadata": {},
   "source": [
    "<div class=\"alert alert-block alert-info\">\n",
    "    \n",
    "# **Program in Parts**"
   ]
  },
  {
   "cell_type": "code",
   "execution_count": 39,
   "id": "c47efdce",
   "metadata": {},
   "outputs": [
    {
     "name": "stdout",
     "output_type": "stream",
     "text": [
      "x    |  y\n",
      "140  |  96.11\n",
      "100  |  80.63\n",
      "20  |  35.26\n",
      "55  |  48.51\n",
      "120  |  91.84\n",
      "10  |  21.66\n",
      "78  |  66.48\n",
      "99  |  83.21\n",
      "61  |  8.9\n",
      "155  |  98.56\n",
      "110  |  98.56\n",
      "144  |  99.15\n",
      "65  |  35.41\n",
      "134  |  95.41\n",
      "91  |  75.12\n"
     ]
    },
    {
     "data": {
      "image/png": "[encoded data removed]",
      "text/plain": [
       "<Figure size 432x288 with 1 Axes>"
      ]
     },
     "metadata": {
      "needs_background": "light"
     },
     "output_type": "display_data"
    }
   ],
   "source": [
    "import matplotlib.pyplot as plt\n",
    "\n",
    "\n",
    "x = [140, 100, 20, 55, 120, 10, 78, 99, 61, 155, 110, 144, 65, 134, 91]\n",
    "y = [96.11, 80.63, 35.26, 48.51, 91.84, 21.66, 66.48, 83.21, 8.9, 98.56, 98.56, 99.15, 35.41, 95.41, 75.12]\n",
    "\n",
    "x_n = len(x)\n",
    "y_n = len(y)\n",
    "\n",
    "print(\"x\", \"   | \", \"y\")\n",
    "for m,n in zip(x,y):\n",
    "    print(m, \" | \", n)\n",
    "\n",
    "plt.title(\"Scatter Plot\")\n",
    "plt.xlabel(\"X - Axis ---------------->\")\n",
    "plt.ylabel(\"Y - Axis ---------------->\")\n",
    "plt.scatter(x,y)\n",
    "plt.show()"
   ]
  },
  {
   "cell_type": "markdown",
   "id": "de67b2a1",
   "metadata": {},
   "source": [
    "<div class=\"alert alert-block alert-info\">\n",
    "\n",
    "### **1) (Summation of X, Y) & (X-Bar, Y-Bar)**"
   ]
  },
  {
   "cell_type": "code",
   "execution_count": 40,
   "id": "9800021a",
   "metadata": {},
   "outputs": [
    {
     "name": "stdout",
     "output_type": "stream",
     "text": [
      "\n",
      "Summation X :  1382\n",
      "X-Bar = Summation of X / Total number of values of X ( 15 )\n",
      "X-Bar :  92\n",
      "\n",
      "Summation Y :  1034.81\n",
      "Y-Bar = Summation of Y / Total number of values of Y ( 15 )\n",
      "Y-Bar :  69\n"
     ]
    }
   ],
   "source": [
    "x_add = 0\n",
    "for i in range(len(x)):\n",
    "    x_add = x_add + x[i]\n",
    "\n",
    "print(\"\\nSummation X : \", x_add)\n",
    "#x_round_off = (x_add/x_n)\n",
    "x_round_off = round(x_add/x_n)\n",
    "print(\"X-Bar = Summation of X / Total number of values of X (\",x_n,\")\")\n",
    "print(\"X-Bar : \", x_round_off)\n",
    "\n",
    "\n",
    "y_add = 0\n",
    "for i in range(len(x)):\n",
    "    y_add = y_add + y[i]\n",
    "\n",
    "print(\"\\nSummation Y : \", (y_add))\n",
    "#y_round_off = (y_add/y_n)\n",
    "y_round_off = round(y_add/y_n)\n",
    "print(\"Y-Bar = Summation of Y / Total number of values of Y (\",y_n,\")\")\n",
    "print(\"Y-Bar : \", y_round_off)"
   ]
  },
  {
   "cell_type": "markdown",
   "id": "64b9828f",
   "metadata": {},
   "source": [
    "<div class=\"alert alert-block alert-info\">\n",
    "\n",
    "### **2) xi-X & yi-Y**"
   ]
  },
  {
   "cell_type": "code",
   "execution_count": 41,
   "id": "029d07ba",
   "metadata": {},
   "outputs": [
    {
     "name": "stdout",
     "output_type": "stream",
     "text": [
      "\n",
      "x-(X_Bar) :  [48, 8, -72, -37, 28, -82, -14, 7, -31, 63, 18, 52, -27, 42, -1]\n",
      "\n",
      "y-(Y_Bar) :  [27.11, 11.629999999999995, -33.74, -20.490000000000002, 22.840000000000003, -47.34, -2.519999999999996, 14.209999999999994, -60.1, 29.560000000000002, 29.560000000000002, 30.150000000000006, -33.59, 26.409999999999997, 6.1200000000000045]\n"
     ]
    }
   ],
   "source": [
    "xi_X = []\n",
    "for k in range(x_n):\n",
    "    x_final = x[k] - x_round_off\n",
    "    xi_X.append(x_final)\n",
    "\n",
    "print(\"\\nx-(X_Bar) : \", xi_X)\n",
    "\n",
    "yi_Y = []\n",
    "for k in range(y_n):\n",
    "    y_final = y[k] - y_round_off\n",
    "    yi_Y.append(y_final)\n",
    "\n",
    "print(\"\\ny-(Y_Bar) : \", yi_Y)"
   ]
  },
  {
   "cell_type": "markdown",
   "id": "22876731",
   "metadata": {},
   "source": [
    "<div class=\"alert alert-block alert-info\">\n",
    "\n",
    "### 3) Product & Square"
   ]
  },
  {
   "cell_type": "code",
   "execution_count": 42,
   "id": "a09f15f8",
   "metadata": {},
   "outputs": [
    {
     "name": "stdout",
     "output_type": "stream",
     "text": [
      "\n",
      "Product = (x - (x_Bar)) * (y - (Y_Bar))\n",
      "Product :  [1301.28, 93.03999999999996, 2429.28, 758.1300000000001, 639.5200000000001, 3881.88, 35.279999999999944, 99.46999999999996, 1863.1000000000001, 1862.2800000000002, 532.08, 1567.8000000000002, 906.9300000000001, 1109.2199999999998, -6.1200000000000045]\n",
      "\n",
      "Square = (x - (X_Bar))^2\n",
      "Square :  [2304, 64, 5184, 1369, 784, 6724, 196, 49, 961, 3969, 324, 2704, 729, 1764, 1]\n",
      "\n",
      "Product Summation :  17073.170000000006\n",
      "Square Summation  :  27126\n"
     ]
    }
   ],
   "source": [
    "product_final =[]\n",
    "#print(\"\\nProduct = (xi - x) * (yi - Y)\")\n",
    "for j,l in zip(xi_X, yi_Y):\n",
    "    product = j*l\n",
    "    product_final.append(product)\n",
    "    #print(round(product,4))\n",
    "\n",
    "print(\"\\nProduct = (x - (x_Bar)) * (y - (Y_Bar))\")\n",
    "print(\"Product : \", product_final)\n",
    "\n",
    "square = []\n",
    "for n in range(len(xi_X)):\n",
    "    sqr = xi_X[n] * xi_X[n]\n",
    "    square.append(sqr)\n",
    "print(\"\\nSquare = (x - (X_Bar))^2\")\n",
    "print(\"Square : \", square)\n",
    "\n",
    "\n",
    "product_ultra_final = 0\n",
    "square_ulta_final = 0\n",
    "for a,b in zip(product_final, square):\n",
    "    #print(a,b)\n",
    "    product_ultra_final = product_ultra_final + a\n",
    "    square_ulta_final = square_ulta_final + b\n",
    "\n",
    "print(\"\\nProduct Summation : \", product_ultra_final)\n",
    "print(\"Square Summation  : \", square_ulta_final)"
   ]
  },
  {
   "cell_type": "markdown",
   "id": "70da6955",
   "metadata": {},
   "source": [
    "<div class=\"alert alert-block alert-info\">\n",
    "\n",
    "### 4) Slope"
   ]
  },
  {
   "cell_type": "code",
   "execution_count": 43,
   "id": "deb2451e",
   "metadata": {},
   "outputs": [
    {
     "name": "stdout",
     "output_type": "stream",
     "text": [
      "\n",
      "Slope = Product Summation / Square Summation\n",
      "Slope :  0.6294024183440244\n",
      "\n",
      "y = Slope(m)*x + Y-Intercept(c)\n",
      "Therefore, Y-Intercept(c) = y - Slope(m)*x\n",
      "Y-Intercept :  11.09497751234975\n",
      "\n",
      "Therefore, Equation is : \n",
      "y = 0.6294024183440244 * x + 11.09497751234975\n"
     ]
    }
   ],
   "source": [
    "slope = product_ultra_final/square_ulta_final\n",
    "print(\"\\nSlope = Product Summation / Square Summation\")\n",
    "print(\"Slope : \", slope)\n",
    "\n",
    "y_intercept = y_round_off - slope * x_round_off\n",
    "print(\"\\ny = Slope(m)*x + Y-Intercept(c)\")\n",
    "print(\"Therefore, Y-Intercept(c) = y - Slope(m)*x\")\n",
    "print(\"Y-Intercept : \", y_intercept)\n",
    "\n",
    "print(\"\\nTherefore, Equation is : \\ny =\", slope, \"* x\", \"+\", y_intercept)"
   ]
  },
  {
   "cell_type": "markdown",
   "id": "170802c1",
   "metadata": {},
   "source": [
    "<div class=\"alert alert-block alert-success\">\n",
    "\n",
    "## **Program Output Overview**"
   ]
  },
  {
   "cell_type": "code",
   "execution_count": 44,
   "id": "319038d9",
   "metadata": {
    "scrolled": false
   },
   "outputs": [
    {
     "name": "stdout",
     "output_type": "stream",
     "text": [
      " \n",
      " x  |      y\n",
      "140 | 99.21131608051317\n",
      "100 | 74.0352193467522\n",
      "20 | 23.68302587923024\n",
      "55 | 45.71211052127109\n",
      "120 | 86.62326771363269\n",
      "10 | 17.389001695789993\n",
      "78 | 60.18836614318366\n",
      "99 | 73.40581692840817\n",
      "61 | 49.48852503133524\n",
      "155 | 108.65235235567354\n",
      "110 | 80.32924353019243\n",
      "144 | 101.72892575388926\n",
      "65 | 52.006134704711336\n",
      "134 | 95.43490157044903\n",
      "91 | 68.37059758165597\n",
      " \n",
      "  MSE   |   y   |  y_bar   |\n",
      "9.6182  |  96.11  |  99.2113  |\n",
      "43.4911  |  80.63  |  74.0352  |\n",
      "134.0263  |  35.26  |  23.683  |\n",
      "7.8282  |  48.51  |  45.7121  |\n",
      "27.2143  |  91.84  |  86.6233  |\n",
      "18.2414  |  21.66  |  17.389  |\n",
      "39.5847  |  66.48  |  60.1884  |\n",
      "96.122  |  83.21  |  73.4058  |\n",
      "1647.4284  |  8.9  |  49.4885  |\n",
      "101.8556  |  98.56  |  108.6524  |\n",
      "332.3605  |  98.56  |  80.3292  |\n",
      "6.6509  |  99.15  |  101.7289  |\n",
      "275.4317  |  35.41  |  52.0061  |\n",
      "0.0006  |  95.41  |  95.4349  |\n",
      "45.5544  |  75.12  |  68.3706  |\n",
      "\n",
      "x_min :  10\n",
      "y_min :  17.389001695789993\n",
      "\n",
      "x_max :  155\n",
      "y_max :  108.65235235567354\n"
     ]
    },
    {
     "data": {
      "image/png": "[encoded data removed]",
      "text/plain": [
       "<Figure size 432x288 with 1 Axes>"
      ]
     },
     "metadata": {
      "needs_background": "light"
     },
     "output_type": "display_data"
    }
   ],
   "source": [
    "y_final_array = []\n",
    "print(\" \")\n",
    "print(\" x  |      y\")\n",
    "for d in x:\n",
    "    mx = slope * d\n",
    "    y_final = mx + y_intercept\n",
    "    print(d,\"|\", y_final)\n",
    "\n",
    "    y_final_array.append(y_final)\n",
    "\n",
    "    rounded_y_final = round(y_final)\n",
    "\n",
    "print(\" \")\n",
    "print(\"  MSE   |   y   |  y_bar   |\")\n",
    "for e,f in zip(y, y_final_array):\n",
    "    mse = (e-f) * (e-f)\n",
    "    print(round(mse,4), \" | \", e, \" | \", round(f,4), \" |\")\n",
    "\n",
    "\n",
    "\n",
    "print(\"\\nx_min : \", min(x))\n",
    "print(\"y_min : \", min(y_final_array))\n",
    "starting_x_coordinate = min(x), max(x)\n",
    "\n",
    "print(\"\\nx_max : \", max(x))\n",
    "print(\"y_max : \", max(y_final_array))\n",
    "ending_y_coordinate = min(y_final_array), max(y_final_array)\n",
    "\n",
    "\n",
    "plt.title(\"Linear Regression\")\n",
    "plt.xlabel(\"Study Hours (Weekly) ---------------->\")\n",
    "plt.ylabel(\"Marks (in %) ---------------->\")\n",
    "plt.scatter(x, y)\n",
    "plt.plot(starting_x_coordinate, ending_y_coordinate, '-r', label='y=2x+1')\n",
    "plt.show()"
   ]
  },
  {
   "cell_type": "markdown",
   "id": "ca24f8d2",
   "metadata": {},
   "source": [
    "<div class=\"alert alert-block alert-success\">\n",
    "\n",
    "## Cross-Checking y-coordinates"
   ]
  },
  {
   "cell_type": "code",
   "execution_count": 55,
   "id": "9793700d",
   "metadata": {
    "scrolled": true
   },
   "outputs": [
    {
     "name": "stdout",
     "output_type": "stream",
     "text": [
      "     Input      |         Improved\n",
      "( 140 , 96.11 ) | ( 140 , 99.2182369504007 )\n",
      "( 100 , 80.63 ) | ( 100 , 74.03637282506679 )\n",
      "( 20 , 35.26 ) | ( 20 , 23.672644574398944 )\n",
      "( 55 , 48.51 ) | ( 55 , 45.70677568406612 )\n",
      "( 120 , 91.84 ) | ( 120 , 86.62730488773374 )\n",
      "( 10 , 21.66 ) | ( 10 , 17.377178543065465 )\n",
      "( 78 , 66.48 ) | ( 78 , 60.18634755613313 )\n",
      "( 99 , 83.21 ) | ( 99 , 73.40682622193344 )\n",
      "( 61 , 8.9 ) | ( 61 , 49.48405530286621 )\n",
      "( 155 , 98.56 ) | ( 155 , 108.66143599740093 )\n",
      "( 110.6 , 98.56 ) | ( 110.6 , 80.70956681828028 )\n",
      "( 144 , 99.15 ) | ( 144 , 101.73642336293409 )\n",
      "( 65 , 35.41 ) | ( 65 , 52.002241715399606 )\n",
      "( 134 , 95.41 ) | ( 134 , 95.44095733160063 )\n",
      "( 91 , 75.12 ) | ( 91 , 68.37045339686665 )\n"
     ]
    }
   ],
   "source": [
    "print(\"     Input      |         Improved\")\n",
    "for e,f,g,h in zip(x, y, x, y_final_array):\n",
    "    print(\"(\",e,\",\", f,\") | (\", g,\",\",h,\")\")"
   ]
  },
  {
   "cell_type": "markdown",
   "id": "6e7726f7",
   "metadata": {},
   "source": [
    "***"
   ]
  },
  {
   "cell_type": "markdown",
   "id": "7cff9386",
   "metadata": {},
   "source": [
    "<div class=\"alert alert-block alert-danger\">\n",
    "\n",
    "# ***Thank - You***"
   ]
  }
 ],
 "metadata": {
  "celltoolbar": "Raw Cell Format",
  "kernelspec": {
   "display_name": "Python 3 (ipykernel)",
   "language": "python",
   "name": "python3"
  },
  "language_info": {
   "codemirror_mode": {
    "name": "ipython",
    "version": 3
   },
   "file_extension": ".py",
   "mimetype": "text/x-python",
   "name": "python",
   "nbconvert_exporter": "python",
   "pygments_lexer": "ipython3",
   "version": "3.8.10"
  }
 },
 "nbformat": 4,
 "nbformat_minor": 5
}
